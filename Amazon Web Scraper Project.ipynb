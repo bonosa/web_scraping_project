{
 "cells": [
  {
   "cell_type": "code",
   "execution_count": 1,
   "id": "f236cbb9",
   "metadata": {},
   "outputs": [],
   "source": [
    "# import libraries \n",
    "\n",
    "from bs4 import BeautifulSoup\n",
    "import requests\n",
    "import time\n",
    "import datetime\n",
    "\n",
    "import smtplib\n"
   ]
  },
  {
   "cell_type": "code",
   "execution_count": 24,
   "id": "9b531b61",
   "metadata": {},
   "outputs": [
    {
     "name": "stdout",
     "output_type": "stream",
     "text": [
      "Title: The Secret Garden\n",
      "Price: £15.08\n",
      "---\n",
      "Title: Little Women (Little Women #1)\n",
      "Price: £28.07\n",
      "---\n",
      "Title: The Complete Stories and Poems (The Works of Edgar Allan Poe [Cameo Edition])\n",
      "Price: £26.78\n",
      "---\n",
      "Title: The Story of Hong Gildong\n",
      "Price: £43.19\n",
      "---\n"
     ]
    }
   ],
   "source": [
    "import requests\n",
    "from bs4 import BeautifulSoup\n",
    "\n",
    "URL = 'http://books.toscrape.com/catalogue/category/books/classics_6/index.html'\n",
    "page = requests.get(URL)\n",
    "soup = BeautifulSoup(page.content, \"html.parser\")\n",
    "\n",
    "# Find all the book containers\n",
    "books = soup.find_all('li', class_='col-xs-6 col-sm-4 col-md-3 col-lg-3')\n",
    "\n",
    "# Initialize a count for 5-star books\n",
    "count_five_star_books = 0\n",
    "\n",
    "# Iterate through books, and print title and price for 5-star books\n",
    "for book in books:\n",
    "    if 'star-rating Four' in str(book.find('p', class_='star-rating')):\n",
    "        title = book.find('h3').find('a').attrs['title']\n",
    "        price = book.find('p', class_='price_color').text\n",
    "        print(f\"Title: {title}\")\n",
    "        print(f\"Price: {price}\")\n",
    "        print(\"---\")\n",
    "        count_five_star_books += 1\n",
    "        if count_five_star_books == 5:\n",
    "            break\n",
    "\n",
    "\n"
   ]
  },
  {
   "cell_type": "code",
   "execution_count": 25,
   "id": "b6f7d66e",
   "metadata": {},
   "outputs": [
    {
     "name": "stdout",
     "output_type": "stream",
     "text": [
      "The Story of Hong Gildong\n",
      "43.19\n"
     ]
    }
   ],
   "source": [
    "# Clean up the data a little bit\n",
    "\n",
    "price = price.strip()[1:]\n",
    "title = title.strip()\n",
    "\n",
    "print(title)\n",
    "print(price)"
   ]
  },
  {
   "cell_type": "code",
   "execution_count": 8,
   "id": "4f021c23",
   "metadata": {},
   "outputs": [
    {
     "name": "stdout",
     "output_type": "stream",
     "text": [
      "2023-08-25\n"
     ]
    }
   ],
   "source": [
    "# Create a Timestamp for your output to track when data was collected\n",
    "\n",
    "import datetime\n",
    "\n",
    "today = datetime.date.today()\n",
    "\n",
    "print(today)\n"
   ]
  },
  {
   "cell_type": "code",
   "execution_count": 26,
   "id": "14d703ca",
   "metadata": {},
   "outputs": [
    {
     "name": "stdout",
     "output_type": "stream",
     "text": [
      "Today's date is: 2023-08-28\n",
      "Current Directory: c:\\Users\\bonos\\Downloads\\PortfolioProjects-main\\PortfolioProjects-main\n",
      "Complete Path: c:\\Users\\bonos\\Downloads\\PortfolioProjects-main\\PortfolioProjects-main\\AmazonWebScraperDataset.csv\n"
     ]
    }
   ],
   "source": [
    "# Create CSV and write headers and data into the file\n",
    "\n",
    "import csv \n",
    "from datetime import datetime\n",
    "\n",
    "# Get today's date\n",
    "today = datetime.now()\n",
    "\n",
    "# Format it as YYYY-MM-DD\n",
    "formatted_date = today.strftime('%Y-%m-%d')\n",
    "\n",
    "print(f\"Today's date is: {formatted_date}\")\n",
    "\n",
    "header = ['Title', 'Price', 'Date']\n",
    "data = [title, price, today]\n",
    "import os\n",
    "filename = 'AmazonWebScraperDataset.csv'\n",
    "current_directory = os.getcwd()\n",
    "print(\"Current Directory:\", current_directory)\n",
    "complete_path = os.path.join(current_directory, filename)\n",
    "\n",
    "print(\"Complete Path:\", complete_path)\n",
    "\n",
    "with open(complete_path, 'w', newline='', encoding='UTF8') as f:\n",
    "    writer = csv.writer(f)\n",
    "    writer.writerow(header)\n",
    "    writer.writerow(data)\n",
    "    \n"
   ]
  },
  {
   "cell_type": "code",
   "execution_count": 27,
   "id": "d07eeb86",
   "metadata": {},
   "outputs": [
    {
     "name": "stdout",
     "output_type": "stream",
     "text": [
      "Current Directory: c:\\Users\\bonos\\Downloads\\PortfolioProjects-main\\PortfolioProjects-main\n",
      "                       Title  Price                        Date\n",
      "0  The Story of Hong Gildong  43.19  2023-08-28 16:28:38.893627\n"
     ]
    }
   ],
   "source": [
    "import pandas as pd\n",
    "import os\n",
    "filename = 'AmazonWebScraperDataset.csv'\n",
    "current_directory = os.getcwd()\n",
    "print(\"Current Directory:\", current_directory)\n",
    "complete_path = os.path.join(current_directory, filename)\n",
    "df = pd.read_csv(complete_path)\n",
    "\n",
    "print(df)\n",
    "\n"
   ]
  }
 ],
 "metadata": {
  "kernelspec": {
   "display_name": "Python 3",
   "language": "python",
   "name": "python3"
  },
  "language_info": {
   "codemirror_mode": {
    "name": "ipython",
    "version": 3
   },
   "file_extension": ".py",
   "mimetype": "text/x-python",
   "name": "python",
   "nbconvert_exporter": "python",
   "pygments_lexer": "ipython3",
   "version": "3.10.11"
  }
 },
 "nbformat": 4,
 "nbformat_minor": 5
}
